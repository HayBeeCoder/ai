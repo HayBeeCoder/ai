{
 "cells": [
  {
   "cell_type": "code",
   "execution_count": 1,
   "id": "991ffd9d-2e62-4fa0-b192-77a7f3b57a52",
   "metadata": {},
   "outputs": [],
   "source": [
    "import numpy as np\n",
    "import matplotlib.pyplot as plt\n",
    "from collections import Counter"
   ]
  },
  {
   "cell_type": "code",
   "execution_count": 2,
   "id": "286e39d4-a140-4f89-b113-e325137a23a4",
   "metadata": {},
   "outputs": [],
   "source": [
    "points = {\n",
    "    \"blue\": [[2, 4], [1, 5], [2, 3], [3, 2], [2, 1]],\n",
    "    \"red\": [[5, 6], [4, 5], [4, 6], [6, 6], [5, 4]],\n",
    "}\n",
    "\n",
    "new_point = [3,3]"
   ]
  },
  {
   "cell_type": "code",
   "execution_count": 3,
   "id": "61c01464",
   "metadata": {},
   "outputs": [],
   "source": [
    "def euclidean_distance(p,q):\n",
    "    return np.sqrt(np.sum((np.array(p) - np.array(q)) ** 2))"
   ]
  },
  {
   "cell_type": "code",
   "execution_count": 4,
   "id": "5288c30c",
   "metadata": {},
   "outputs": [
    {
     "data": {
      "text/plain": [
       "1.4142135623730951"
      ]
     },
     "execution_count": 4,
     "metadata": {},
     "output_type": "execute_result"
    }
   ],
   "source": [
    "euclidean_distance([3,4],[4,5])"
   ]
  },
  {
   "cell_type": "code",
   "execution_count": null,
   "id": "e6182452",
   "metadata": {},
   "outputs": [],
   "source": []
  }
 ],
 "metadata": {
  "kernelspec": {
   "display_name": "nb_env",
   "language": "python",
   "name": "python3"
  },
  "language_info": {
   "codemirror_mode": {
    "name": "ipython",
    "version": 3
   },
   "file_extension": ".py",
   "mimetype": "text/x-python",
   "name": "python",
   "nbconvert_exporter": "python",
   "pygments_lexer": "ipython3",
   "version": "3.8.20"
  }
 },
 "nbformat": 4,
 "nbformat_minor": 5
}
