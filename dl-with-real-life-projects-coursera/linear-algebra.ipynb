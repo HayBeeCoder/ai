{
 "cells": [
  {
   "cell_type": "code",
   "execution_count": 1,
   "id": "f6188c15",
   "metadata": {},
   "outputs": [],
   "source": [
    "import numpy as np"
   ]
  },
  {
   "cell_type": "code",
   "execution_count": 2,
   "id": "43664acc",
   "metadata": {},
   "outputs": [],
   "source": [
    "matrixA = np.matrix([[1,3,5],[2,4,3],[5,6,8]])"
   ]
  },
  {
   "cell_type": "code",
   "execution_count": 3,
   "id": "20ccd765",
   "metadata": {},
   "outputs": [
    {
     "data": {
      "text/plain": [
       "matrix([[1, 3, 5],\n",
       "        [2, 4, 3],\n",
       "        [5, 6, 8]])"
      ]
     },
     "execution_count": 3,
     "metadata": {},
     "output_type": "execute_result"
    }
   ],
   "source": [
    "matrixA"
   ]
  },
  {
   "cell_type": "code",
   "execution_count": 4,
   "id": "606f391c",
   "metadata": {},
   "outputs": [
    {
     "data": {
      "text/plain": [
       "(3, 3)"
      ]
     },
     "execution_count": 4,
     "metadata": {},
     "output_type": "execute_result"
    }
   ],
   "source": [
    "matrixA.shape"
   ]
  },
  {
   "cell_type": "code",
   "execution_count": 5,
   "id": "02344fad",
   "metadata": {},
   "outputs": [],
   "source": [
    "matrixB = np.matrix([[3],[5],[7]])"
   ]
  },
  {
   "cell_type": "code",
   "execution_count": 6,
   "id": "603f47d0",
   "metadata": {},
   "outputs": [
    {
     "data": {
      "text/plain": [
       "matrix([[3],\n",
       "        [5],\n",
       "        [7]])"
      ]
     },
     "execution_count": 6,
     "metadata": {},
     "output_type": "execute_result"
    }
   ],
   "source": [
    "matrixB"
   ]
  },
  {
   "cell_type": "code",
   "execution_count": 8,
   "id": "ec6ad377",
   "metadata": {},
   "outputs": [
    {
     "data": {
      "text/plain": [
       "(3, 1)"
      ]
     },
     "execution_count": 8,
     "metadata": {},
     "output_type": "execute_result"
    }
   ],
   "source": [
    "matrixB.shape"
   ]
  },
  {
   "cell_type": "code",
   "execution_count": 9,
   "id": "3547b063",
   "metadata": {},
   "outputs": [
    {
     "name": "stdout",
     "output_type": "stream",
     "text": [
      "[[ 53]\n",
      " [ 47]\n",
      " [101]]\n"
     ]
    }
   ],
   "source": [
    "print(matrixA * matrixB)"
   ]
  },
  {
   "cell_type": "code",
   "execution_count": null,
   "id": "a737ccde",
   "metadata": {},
   "outputs": [],
   "source": [
    "matrixA *"
   ]
  }
 ],
 "metadata": {
  "kernelspec": {
   "display_name": "Python [conda env:nb_env] *",
   "language": "python",
   "name": "conda-env-nb_env-py"
  },
  "language_info": {
   "codemirror_mode": {
    "name": "ipython",
    "version": 3
   },
   "file_extension": ".py",
   "mimetype": "text/x-python",
   "name": "python",
   "nbconvert_exporter": "python",
   "pygments_lexer": "ipython3",
   "version": "3.8.20"
  }
 },
 "nbformat": 4,
 "nbformat_minor": 5
}
